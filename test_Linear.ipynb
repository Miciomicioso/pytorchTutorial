{
  "nbformat": 4,
  "nbformat_minor": 0,
  "metadata": {
    "colab": {
      "name": "test Linear.ipynb",
      "provenance": [],
      "collapsed_sections": [],
      "authorship_tag": "ABX9TyO3GvkKSBU08jhecShyhI1U",
      "include_colab_link": true
    },
    "kernelspec": {
      "name": "python3",
      "display_name": "Python 3"
    }
  },
  "cells": [
    {
      "cell_type": "markdown",
      "metadata": {
        "id": "view-in-github",
        "colab_type": "text"
      },
      "source": [
        "<a href=\"https://colab.research.google.com/github/Miciomicioso/pytorchTutorial/blob/master/test_Linear.ipynb\" target=\"_parent\"><img src=\"https://colab.research.google.com/assets/colab-badge.svg\" alt=\"Open In Colab\"/></a>"
      ]
    },
    {
      "cell_type": "markdown",
      "metadata": {
        "id": "Xn4gjXJE2yS-",
        "colab_type": "text"
      },
      "source": [
        "importa numpy, torch e torch.nn"
      ]
    },
    {
      "cell_type": "code",
      "metadata": {
        "id": "bDNX1JxI6fRw",
        "colab_type": "code",
        "colab": {}
      },
      "source": [
        ""
      ],
      "execution_count": null,
      "outputs": []
    },
    {
      "cell_type": "markdown",
      "metadata": {
        "id": "2ASNdYl93I1r",
        "colab_type": "text"
      },
      "source": [
        "crea una matrice numpy di inputs float32"
      ]
    },
    {
      "cell_type": "code",
      "metadata": {
        "id": "Xe08lkoN3UyJ",
        "colab_type": "code",
        "colab": {}
      },
      "source": [
        ""
      ],
      "execution_count": null,
      "outputs": []
    },
    {
      "cell_type": "markdown",
      "metadata": {
        "id": "WpP09HiD3V4I",
        "colab_type": "text"
      },
      "source": [
        "crea una matrice numpy di targets float32"
      ]
    },
    {
      "cell_type": "code",
      "metadata": {
        "id": "RSsgnEdd3erw",
        "colab_type": "code",
        "colab": {}
      },
      "source": [
        ""
      ],
      "execution_count": null,
      "outputs": []
    },
    {
      "cell_type": "markdown",
      "metadata": {
        "id": "5A45fhlt3fsT",
        "colab_type": "text"
      },
      "source": [
        "trasforma le matrici di numpy inputs e targets in tensori pytorch"
      ]
    },
    {
      "cell_type": "code",
      "metadata": {
        "id": "vlDignqm3_jQ",
        "colab_type": "code",
        "colab": {}
      },
      "source": [
        ""
      ],
      "execution_count": null,
      "outputs": []
    },
    {
      "cell_type": "markdown",
      "metadata": {
        "id": "clfAtNVUJV0S",
        "colab_type": "text"
      },
      "source": [
        "# **Dataset e DataLoader**"
      ]
    },
    {
      "cell_type": "markdown",
      "metadata": {
        "id": "foSFkxTJ3sIm",
        "colab_type": "text"
      },
      "source": [
        "crea un TensorDataset che permette di accedere alle righe di inputs e targets come tuples di liste immodificabili"
      ]
    },
    {
      "cell_type": "code",
      "metadata": {
        "id": "sa17F8bP4CF2",
        "colab_type": "code",
        "colab": {}
      },
      "source": [
        ""
      ],
      "execution_count": null,
      "outputs": []
    },
    {
      "cell_type": "markdown",
      "metadata": {
        "id": "mdR2A-DG4FNW",
        "colab_type": "text"
      },
      "source": [
        "definisci il dataset: train_ds"
      ]
    },
    {
      "cell_type": "code",
      "metadata": {
        "id": "QsSYKz5F4Lan",
        "colab_type": "code",
        "colab": {}
      },
      "source": [
        ""
      ],
      "execution_count": null,
      "outputs": []
    },
    {
      "cell_type": "markdown",
      "metadata": {
        "id": "QCV9Ypnu4Ova",
        "colab_type": "text"
      },
      "source": [
        "stampa i primi due inputs e i targets corrispondenti"
      ]
    },
    {
      "cell_type": "code",
      "metadata": {
        "id": "KYYD3GVH4lXN",
        "colab_type": "code",
        "colab": {}
      },
      "source": [
        ""
      ],
      "execution_count": null,
      "outputs": []
    },
    {
      "cell_type": "markdown",
      "metadata": {
        "id": "VK2p4Ek2GrVV",
        "colab_type": "text"
      },
      "source": [
        "Crea un DataLoader che permette di suddividere i dati in batches di dimensioni predefinite (es: batch_size=5), inoltre permette di mischiare i dati in modo casuale: shuffle= True"
      ]
    },
    {
      "cell_type": "code",
      "metadata": {
        "id": "YNKIg3XjHBOy",
        "colab_type": "code",
        "colab": {}
      },
      "source": [
        ""
      ],
      "execution_count": null,
      "outputs": []
    },
    {
      "cell_type": "markdown",
      "metadata": {
        "id": "aNAa77huHmLl",
        "colab_type": "text"
      },
      "source": [
        "Stampa un batch di esempio tramite un for-in loop:"
      ]
    },
    {
      "cell_type": "code",
      "metadata": {
        "id": "gGJ4zUOsHvwK",
        "colab_type": "code",
        "colab": {}
      },
      "source": [
        ""
      ],
      "execution_count": null,
      "outputs": []
    },
    {
      "cell_type": "markdown",
      "metadata": {
        "id": "ueRt6OxIH812",
        "colab_type": "text"
      },
      "source": [
        "**MODEL**\n"
      ]
    },
    {
      "cell_type": "markdown",
      "metadata": {
        "id": "gZow2orrIeZv",
        "colab_type": "text"
      },
      "source": [
        "definisci il modello lineare tramite nn.Linear"
      ]
    },
    {
      "cell_type": "code",
      "metadata": {
        "id": "hRbvm8oJIocu",
        "colab_type": "code",
        "colab": {}
      },
      "source": [
        ""
      ],
      "execution_count": null,
      "outputs": []
    },
    {
      "cell_type": "markdown",
      "metadata": {
        "id": "yR5kJP16Iqdz",
        "colab_type": "text"
      },
      "source": [
        "stampa i pesi e il bias del modello"
      ]
    },
    {
      "cell_type": "code",
      "metadata": {
        "id": "OIKfSIKRIwAu",
        "colab_type": "code",
        "colab": {}
      },
      "source": [
        ""
      ],
      "execution_count": null,
      "outputs": []
    },
    {
      "cell_type": "markdown",
      "metadata": {
        "id": "P54Ndvx8I52R",
        "colab_type": "text"
      },
      "source": [
        "stampa una lista dei parametri del modello"
      ]
    },
    {
      "cell_type": "code",
      "metadata": {
        "id": "4y_venkfI_Cy",
        "colab_type": "code",
        "colab": {}
      },
      "source": [
        ""
      ],
      "execution_count": null,
      "outputs": []
    },
    {
      "cell_type": "markdown",
      "metadata": {
        "id": "5YIce-24JC8a",
        "colab_type": "text"
      },
      "source": [
        "genera le previsioni e stampale"
      ]
    },
    {
      "cell_type": "code",
      "metadata": {
        "id": "wv7wvfrIJImt",
        "colab_type": "code",
        "colab": {}
      },
      "source": [
        ""
      ],
      "execution_count": null,
      "outputs": []
    }
  ]
}